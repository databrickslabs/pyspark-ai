{
 "cells": [
  {
   "cell_type": "markdown",
   "metadata": {
    "jupyter": {
     "outputs_hidden": false
    }
   },
   "source": [
    "# Spark LLM Assistant"
   ]
  },
  {
   "cell_type": "markdown",
   "metadata": {
    "jupyter": {
     "outputs_hidden": false
    }
   },
   "source": [
    "## Initialization"
   ]
  },
  {
   "cell_type": "code",
   "execution_count": 1,
   "metadata": {
    "collapsed": false,
    "jupyter": {
     "outputs_hidden": false
    }
   },
   "outputs": [
    {
     "name": "stderr",
     "output_type": "stream",
     "text": [
      "Setting default log level to \"WARN\".\n",
      "To adjust logging level use sc.setLogLevel(newLevel). For SparkR, use setLogLevel(newLevel).\n",
      "23/06/21 01:15:22 WARN NativeCodeLoader: Unable to load native-hadoop library for your platform... using builtin-java classes where applicable\n"
     ]
    }
   ],
   "source": [
    "from langchain.chat_models import ChatOpenAI\n",
    "from spark_llm import SparkLLMAssistant\n",
    "\n",
    "llm = ChatOpenAI(model_name='gpt-4') # using gpt-4 can achieve better results\n",
    "assistant=SparkLLMAssistant(llm=llm, verbose=True)\n",
    "assistant.activate() # active partial functions for Spark DataFrame"
   ]
  },
  {
   "cell_type": "markdown",
   "metadata": {
    "jupyter": {
     "outputs_hidden": false
    }
   },
   "source": [
    "## Example 1: Auto sales by brand in US 2022"
   ]
  },
  {
   "cell_type": "code",
   "execution_count": 2,
   "metadata": {
    "collapsed": false,
    "jupyter": {
     "outputs_hidden": false
    }
   },
   "outputs": [
    {
     "name": "stderr",
     "output_type": "stream",
     "text": [
      "\u001B[92mINFO: \u001B[0mParsing URL: https://www.carpro.com/blog/full-year-2022-national-auto-sales-by-brand\n",
      "\n",
      "\u001B[92mINFO: \u001B[0mSQL query for the ingestion:\n",
      "\n",
      "\u001B[92mINFO: \u001B[0m\u001B[34mCREATE\u001B[39;49;00m\u001B[37m \u001B[39;49;00m\u001B[34mOR\u001B[39;49;00m\u001B[37m \u001B[39;49;00m\u001B[34mREPLACE\u001B[39;49;00m\u001B[37m \u001B[39;49;00mTEMP\u001B[37m \u001B[39;49;00m\u001B[34mVIEW\u001B[39;49;00m\u001B[37m \u001B[39;49;00mauto_sales_2022\u001B[37m \u001B[39;49;00m\u001B[34mAS\u001B[39;49;00m\u001B[37m \u001B[39;49;00m\u001B[34mSELECT\u001B[39;49;00m\u001B[37m \u001B[39;49;00m*\u001B[37m \u001B[39;49;00m\u001B[34mFROM\u001B[39;49;00m\u001B[37m \u001B[39;49;00m\u001B[34mVALUES\u001B[39;49;00m\u001B[37m\u001B[39;49;00m\n",
      "(\u001B[33m'Toyota'\u001B[39;49;00m,\u001B[37m \u001B[39;49;00m\u001B[34m1849751\u001B[39;49;00m,\u001B[37m \u001B[39;49;00m-\u001B[34m9\u001B[39;49;00m),\u001B[37m\u001B[39;49;00m\n",
      "(\u001B[33m'Ford'\u001B[39;49;00m,\u001B[37m \u001B[39;49;00m\u001B[34m1767439\u001B[39;49;00m,\u001B[37m \u001B[39;49;00m-\u001B[34m2\u001B[39;49;00m),\u001B[37m\u001B[39;49;00m\n",
      "(\u001B[33m'Chevrolet'\u001B[39;49;00m,\u001B[37m \u001B[39;49;00m\u001B[34m1502389\u001B[39;49;00m,\u001B[37m \u001B[39;49;00m\u001B[34m6\u001B[39;49;00m),\u001B[37m\u001B[39;49;00m\n",
      "(\u001B[33m'Honda'\u001B[39;49;00m,\u001B[37m \u001B[39;49;00m\u001B[34m881201\u001B[39;49;00m,\u001B[37m \u001B[39;49;00m-\u001B[34m33\u001B[39;49;00m),\u001B[37m\u001B[39;49;00m\n",
      "(\u001B[33m'Hyundai'\u001B[39;49;00m,\u001B[37m \u001B[39;49;00m\u001B[34m724265\u001B[39;49;00m,\u001B[37m \u001B[39;49;00m-\u001B[34m2\u001B[39;49;00m),\u001B[37m\u001B[39;49;00m\n",
      "(\u001B[33m'Kia'\u001B[39;49;00m,\u001B[37m \u001B[39;49;00m\u001B[34m693549\u001B[39;49;00m,\u001B[37m \u001B[39;49;00m-\u001B[34m1\u001B[39;49;00m),\u001B[37m\u001B[39;49;00m\n",
      "(\u001B[33m'Jeep'\u001B[39;49;00m,\u001B[37m \u001B[39;49;00m\u001B[34m684612\u001B[39;49;00m,\u001B[37m \u001B[39;49;00m-\u001B[34m12\u001B[39;49;00m),\u001B[37m\u001B[39;49;00m\n",
      "(\u001B[33m'Nissan'\u001B[39;49;00m,\u001B[37m \u001B[39;49;00m\u001B[34m682731\u001B[39;49;00m,\u001B[37m \u001B[39;49;00m-\u001B[34m25\u001B[39;49;00m),\u001B[37m\u001B[39;49;00m\n",
      "(\u001B[33m'Subaru'\u001B[39;49;00m,\u001B[37m \u001B[39;49;00m\u001B[34m556581\u001B[39;49;00m,\u001B[37m \u001B[39;49;00m-\u001B[34m5\u001B[39;49;00m),\u001B[37m\u001B[39;49;00m\n",
      "(\u001B[33m'Ram Trucks'\u001B[39;49;00m,\u001B[37m \u001B[39;49;00m\u001B[34m545194\u001B[39;49;00m,\u001B[37m \u001B[39;49;00m-\u001B[34m16\u001B[39;49;00m),\u001B[37m\u001B[39;49;00m\n",
      "(\u001B[33m'GMC'\u001B[39;49;00m,\u001B[37m \u001B[39;49;00m\u001B[34m517649\u001B[39;49;00m,\u001B[37m \u001B[39;49;00m\u001B[34m7\u001B[39;49;00m),\u001B[37m\u001B[39;49;00m\n",
      "(\u001B[33m'Mercedes-Benz'\u001B[39;49;00m,\u001B[37m \u001B[39;49;00m\u001B[34m350949\u001B[39;49;00m,\u001B[37m \u001B[39;49;00m\u001B[34m7\u001B[39;49;00m),\u001B[37m\u001B[39;49;00m\n",
      "(\u001B[33m'BMW'\u001B[39;49;00m,\u001B[37m \u001B[39;49;00m\u001B[34m332388\u001B[39;49;00m,\u001B[37m \u001B[39;49;00m-\u001B[34m1\u001B[39;49;00m),\u001B[37m\u001B[39;49;00m\n",
      "(\u001B[33m'Volkswagen'\u001B[39;49;00m,\u001B[37m \u001B[39;49;00m\u001B[34m301069\u001B[39;49;00m,\u001B[37m \u001B[39;49;00m-\u001B[34m20\u001B[39;49;00m),\u001B[37m\u001B[39;49;00m\n",
      "(\u001B[33m'Mazda'\u001B[39;49;00m,\u001B[37m \u001B[39;49;00m\u001B[34m294908\u001B[39;49;00m,\u001B[37m \u001B[39;49;00m-\u001B[34m11\u001B[39;49;00m),\u001B[37m\u001B[39;49;00m\n",
      "(\u001B[33m'Lexus'\u001B[39;49;00m,\u001B[37m \u001B[39;49;00m\u001B[34m258704\u001B[39;49;00m,\u001B[37m \u001B[39;49;00m-\u001B[34m15\u001B[39;49;00m),\u001B[37m\u001B[39;49;00m\n",
      "(\u001B[33m'Dodge'\u001B[39;49;00m,\u001B[37m \u001B[39;49;00m\u001B[34m190793\u001B[39;49;00m,\u001B[37m \u001B[39;49;00m-\u001B[34m12\u001B[39;49;00m),\u001B[37m\u001B[39;49;00m\n",
      "(\u001B[33m'Audi'\u001B[39;49;00m,\u001B[37m \u001B[39;49;00m\u001B[34m186875\u001B[39;49;00m,\u001B[37m \u001B[39;49;00m-\u001B[34m5\u001B[39;49;00m),\u001B[37m\u001B[39;49;00m\n",
      "(\u001B[33m'Cadillac'\u001B[39;49;00m,\u001B[37m \u001B[39;49;00m\u001B[34m134726\u001B[39;49;00m,\u001B[37m \u001B[39;49;00m\u001B[34m14\u001B[39;49;00m),\u001B[37m\u001B[39;49;00m\n",
      "(\u001B[33m'Chrysler'\u001B[39;49;00m,\u001B[37m \u001B[39;49;00m\u001B[34m112713\u001B[39;49;00m,\u001B[37m \u001B[39;49;00m-\u001B[34m2\u001B[39;49;00m),\u001B[37m\u001B[39;49;00m\n",
      "(\u001B[33m'Buick'\u001B[39;49;00m,\u001B[37m \u001B[39;49;00m\u001B[34m103519\u001B[39;49;00m,\u001B[37m \u001B[39;49;00m-\u001B[34m42\u001B[39;49;00m),\u001B[37m\u001B[39;49;00m\n",
      "(\u001B[33m'Acura'\u001B[39;49;00m,\u001B[37m \u001B[39;49;00m\u001B[34m102306\u001B[39;49;00m,\u001B[37m \u001B[39;49;00m-\u001B[34m35\u001B[39;49;00m),\u001B[37m\u001B[39;49;00m\n",
      "(\u001B[33m'Volvo'\u001B[39;49;00m,\u001B[37m \u001B[39;49;00m\u001B[34m102038\u001B[39;49;00m,\u001B[37m \u001B[39;49;00m-\u001B[34m16\u001B[39;49;00m),\u001B[37m\u001B[39;49;00m\n",
      "(\u001B[33m'Mitsubishi'\u001B[39;49;00m,\u001B[37m \u001B[39;49;00m\u001B[34m102037\u001B[39;49;00m,\u001B[37m \u001B[39;49;00m-\u001B[34m16\u001B[39;49;00m),\u001B[37m\u001B[39;49;00m\n",
      "(\u001B[33m'Lincoln'\u001B[39;49;00m,\u001B[37m \u001B[39;49;00m\u001B[34m83486\u001B[39;49;00m,\u001B[37m \u001B[39;49;00m-\u001B[34m4\u001B[39;49;00m),\u001B[37m\u001B[39;49;00m\n",
      "(\u001B[33m'Porsche'\u001B[39;49;00m,\u001B[37m \u001B[39;49;00m\u001B[34m70065\u001B[39;49;00m,\u001B[37m \u001B[39;49;00m\u001B[34m0\u001B[39;49;00m),\u001B[37m\u001B[39;49;00m\n",
      "(\u001B[33m'Genesis'\u001B[39;49;00m,\u001B[37m \u001B[39;49;00m\u001B[34m56410\u001B[39;49;00m,\u001B[37m \u001B[39;49;00m\u001B[34m14\u001B[39;49;00m),\u001B[37m\u001B[39;49;00m\n",
      "(\u001B[33m'INFINITI'\u001B[39;49;00m,\u001B[37m \u001B[39;49;00m\u001B[34m46619\u001B[39;49;00m,\u001B[37m \u001B[39;49;00m-\u001B[34m20\u001B[39;49;00m),\u001B[37m\u001B[39;49;00m\n",
      "(\u001B[33m'MINI'\u001B[39;49;00m,\u001B[37m \u001B[39;49;00m\u001B[34m29504\u001B[39;49;00m,\u001B[37m \u001B[39;49;00m-\u001B[34m1\u001B[39;49;00m),\u001B[37m\u001B[39;49;00m\n",
      "(\u001B[33m'Alfa Romeo'\u001B[39;49;00m,\u001B[37m \u001B[39;49;00m\u001B[34m12845\u001B[39;49;00m,\u001B[37m \u001B[39;49;00m-\u001B[34m30\u001B[39;49;00m),\u001B[37m\u001B[39;49;00m\n",
      "(\u001B[33m'Maserati'\u001B[39;49;00m,\u001B[37m \u001B[39;49;00m\u001B[34m6413\u001B[39;49;00m,\u001B[37m \u001B[39;49;00m-\u001B[34m10\u001B[39;49;00m),\u001B[37m\u001B[39;49;00m\n",
      "(\u001B[33m'Bentley'\u001B[39;49;00m,\u001B[37m \u001B[39;49;00m\u001B[34m3975\u001B[39;49;00m,\u001B[37m \u001B[39;49;00m\u001B[34m0\u001B[39;49;00m),\u001B[37m\u001B[39;49;00m\n",
      "(\u001B[33m'Lamborghini'\u001B[39;49;00m,\u001B[37m \u001B[39;49;00m\u001B[34m3134\u001B[39;49;00m,\u001B[37m \u001B[39;49;00m\u001B[34m3\u001B[39;49;00m),\u001B[37m\u001B[39;49;00m\n",
      "(\u001B[33m'Fiat'\u001B[39;49;00m,\u001B[37m \u001B[39;49;00m\u001B[34m915\u001B[39;49;00m,\u001B[37m \u001B[39;49;00m-\u001B[34m61\u001B[39;49;00m),\u001B[37m\u001B[39;49;00m\n",
      "(\u001B[33m'McLaren'\u001B[39;49;00m,\u001B[37m \u001B[39;49;00m\u001B[34m840\u001B[39;49;00m,\u001B[37m \u001B[39;49;00m-\u001B[34m35\u001B[39;49;00m),\u001B[37m\u001B[39;49;00m\n",
      "(\u001B[33m'Rolls-Royce'\u001B[39;49;00m,\u001B[37m \u001B[39;49;00m\u001B[34m460\u001B[39;49;00m,\u001B[37m \u001B[39;49;00m\u001B[34m7\u001B[39;49;00m)\u001B[37m\u001B[39;49;00m\n",
      "\u001B[34mAS\u001B[39;49;00m\u001B[37m \u001B[39;49;00mv1(brand,\u001B[37m \u001B[39;49;00mus_sales_2022,\u001B[37m \u001B[39;49;00mvs_2021)\u001B[37m\u001B[39;49;00m\n",
      "\n",
      "\u001B[92mINFO: \u001B[0mStoring data into temp view: auto_sales_2022\n",
      "\n"
     ]
    },
    {
     "name": "stdout",
     "output_type": "stream",
     "text": [
      "+-------------+-------------+-------+\n",
      "|        brand|us_sales_2022|vs_2021|\n",
      "+-------------+-------------+-------+\n",
      "|       Toyota|      1849751|     -9|\n",
      "|         Ford|      1767439|     -2|\n",
      "|    Chevrolet|      1502389|      6|\n",
      "|        Honda|       881201|    -33|\n",
      "|      Hyundai|       724265|     -2|\n",
      "|          Kia|       693549|     -1|\n",
      "|         Jeep|       684612|    -12|\n",
      "|       Nissan|       682731|    -25|\n",
      "|       Subaru|       556581|     -5|\n",
      "|   Ram Trucks|       545194|    -16|\n",
      "|          GMC|       517649|      7|\n",
      "|Mercedes-Benz|       350949|      7|\n",
      "|          BMW|       332388|     -1|\n",
      "|   Volkswagen|       301069|    -20|\n",
      "|        Mazda|       294908|    -11|\n",
      "|        Lexus|       258704|    -15|\n",
      "|        Dodge|       190793|    -12|\n",
      "|         Audi|       186875|     -5|\n",
      "|     Cadillac|       134726|     14|\n",
      "|     Chrysler|       112713|     -2|\n",
      "+-------------+-------------+-------+\n",
      "only showing top 20 rows\n",
      "\n"
     ]
    }
   ],
   "source": [
    "# Search and ingest web content into a DataFrame\n",
    "auto_df = assistant.create_df(\"2022 USA national auto sales by brand\")\n",
    "auto_df.show()"
   ]
  },
  {
   "cell_type": "code",
   "execution_count": 3,
   "metadata": {
    "collapsed": false,
    "jupyter": {
     "outputs_hidden": false
    }
   },
   "outputs": [
    {
     "name": "stderr",
     "output_type": "stream",
     "text": [
      "\u001B[92mINFO: \u001B[0m```\n",
      "\u001B[34mimport\u001B[39;49;00m \u001B[04m\u001B[36mplotly\u001B[39;49;00m\u001B[04m\u001B[36m.\u001B[39;49;00m\u001B[04m\u001B[36mgraph_objects\u001B[39;49;00m \u001B[34mas\u001B[39;49;00m \u001B[04m\u001B[36mgo\u001B[39;49;00m\n",
      "\u001B[34mfrom\u001B[39;49;00m \u001B[04m\u001B[36mplotly\u001B[39;49;00m\u001B[04m\u001B[36m.\u001B[39;49;00m\u001B[04m\u001B[36msubplots\u001B[39;49;00m \u001B[34mimport\u001B[39;49;00m make_subplots\n",
      "\n",
      "\u001B[37m# Assuming df is a valid PySpark DataFrame\u001B[39;49;00m\n",
      "pdf = df.toPandas()\n",
      "\n",
      "fig = make_subplots(specs=[[{\u001B[33m\"\u001B[39;49;00m\u001B[33msecondary_y\u001B[39;49;00m\u001B[33m\"\u001B[39;49;00m: \u001B[34mTrue\u001B[39;49;00m}]])\n",
      "\n",
      "\u001B[37m# Add bars for US sales in 2022\u001B[39;49;00m\n",
      "fig.add_trace(go.Bar(x=pdf[\u001B[33m\"\u001B[39;49;00m\u001B[33mbrand\u001B[39;49;00m\u001B[33m\"\u001B[39;49;00m], y=pdf[\u001B[33m\"\u001B[39;49;00m\u001B[33mus_sales_2022\u001B[39;49;00m\u001B[33m\"\u001B[39;49;00m], name=\u001B[33m\"\u001B[39;49;00m\u001B[33mUS Sales in 2022\u001B[39;49;00m\u001B[33m\"\u001B[39;49;00m), secondary_y=\u001B[34mFalse\u001B[39;49;00m)\n",
      "\n",
      "\u001B[37m# Add line for comparison to 2021\u001B[39;49;00m\n",
      "fig.add_trace(go.Scatter(x=pdf[\u001B[33m\"\u001B[39;49;00m\u001B[33mbrand\u001B[39;49;00m\u001B[33m\"\u001B[39;49;00m], y=pdf[\u001B[33m\"\u001B[39;49;00m\u001B[33mvs_2021\u001B[39;49;00m\u001B[33m\"\u001B[39;49;00m], name=\u001B[33m\"\u001B[39;49;00m\u001B[33mvs 2021\u001B[39;49;00m\u001B[33m\"\u001B[39;49;00m, mode=\u001B[33m\"\u001B[39;49;00m\u001B[33mlines+markers\u001B[39;49;00m\u001B[33m\"\u001B[39;49;00m), secondary_y=\u001B[34mTrue\u001B[39;49;00m)\n",
      "\n",
      "\u001B[37m# Set x-axis title\u001B[39;49;00m\n",
      "fig.update_xaxes(title_text=\u001B[33m\"\u001B[39;49;00m\u001B[33mBrand\u001B[39;49;00m\u001B[33m\"\u001B[39;49;00m)\n",
      "\n",
      "\u001B[37m# Set y-axes titles\u001B[39;49;00m\n",
      "fig.update_yaxes(title_text=\u001B[33m\"\u001B[39;49;00m\u001B[33mUS Sales in 2022\u001B[39;49;00m\u001B[33m\"\u001B[39;49;00m, secondary_y=\u001B[34mFalse\u001B[39;49;00m)\n",
      "fig.update_yaxes(title_text=\u001B[33m\"\u001B[39;49;00m\u001B[33mvs 2021\u001B[39;49;00m\u001B[33m\"\u001B[39;49;00m, secondary_y=\u001B[34mTrue\u001B[39;49;00m)\n",
      "\n",
      "\u001B[37m# Add title and show the plot\u001B[39;49;00m\n",
      "fig.update_layout(title=\u001B[33m\"\u001B[39;49;00m\u001B[33mUS Auto Sales Analysis by Brand - 2022 vs 2021\u001B[39;49;00m\u001B[33m\"\u001B[39;49;00m)\n",
      "fig.show()\n",
      "```\n"
     ]
    }
   ],
   "source": [
    "auto_df.llm.plot()"
   ]
  },
  {
   "cell_type": "code",
   "execution_count": null,
   "outputs": [],
   "source": [
    "auto_df.llm.plot(\"pie char for top 5 brands and the others' market shares\")"
   ],
   "metadata": {
    "collapsed": false,
    "pycharm": {
     "is_executing": true
    }
   }
  },
  {
   "cell_type": "code",
   "execution_count": null,
   "metadata": {
    "collapsed": false,
    "jupyter": {
     "outputs_hidden": false
    },
    "pycharm": {
     "is_executing": true
    }
   },
   "outputs": [],
   "source": [
    "# Apply transforms to a Dataframe\n",
    "auto_top_growth_df=auto_df.llm.transform(\"top brand with the highest growth\")\n",
    "auto_top_growth_df.show()"
   ]
  },
  {
   "cell_type": "code",
   "execution_count": null,
   "metadata": {
    "collapsed": false,
    "jupyter": {
     "outputs_hidden": false
    },
    "pycharm": {
     "is_executing": true
    }
   },
   "outputs": [],
   "source": [
    "# Explain what a DataFrame is retrieving.\n",
    "auto_top_growth_df.llm.explain()"
   ]
  },
  {
   "cell_type": "code",
   "execution_count": null,
   "metadata": {
    "pycharm": {
     "is_executing": true
    }
   },
   "outputs": [],
   "source": [
    "auto_top_growth_df.llm.verify(\"expect sales change percentage to be between -100 to 100\")"
   ]
  },
  {
   "cell_type": "markdown",
   "metadata": {
    "jupyter": {
     "outputs_hidden": false
    }
   },
   "source": [
    "## Example 2: USA Presidents"
   ]
  },
  {
   "cell_type": "code",
   "execution_count": null,
   "metadata": {
    "collapsed": false,
    "jupyter": {
     "outputs_hidden": false
    },
    "pycharm": {
     "is_executing": true
    }
   },
   "outputs": [],
   "source": [
    "# You can also specify the expected columns for the ingestion.\n",
    "df=assistant.create_df(\"USA presidents\", [\"president\", \"vice_president\"])\n",
    "df.show()"
   ]
  },
  {
   "cell_type": "code",
   "execution_count": null,
   "metadata": {
    "collapsed": false,
    "jupyter": {
     "outputs_hidden": false
    },
    "pycharm": {
     "is_executing": true
    }
   },
   "outputs": [],
   "source": [
    "presidents_who_were_vp = df.llm.transform(\"presidents who were also vice presidents\")\n",
    "presidents_who_were_vp.show()"
   ]
  },
  {
   "cell_type": "code",
   "execution_count": null,
   "metadata": {
    "collapsed": false,
    "jupyter": {
     "outputs_hidden": false
    },
    "pycharm": {
     "is_executing": true
    }
   },
   "outputs": [],
   "source": [
    "presidents_who_were_vp.llm.explain()"
   ]
  },
  {
   "cell_type": "code",
   "execution_count": null,
   "metadata": {
    "pycharm": {
     "is_executing": true
    }
   },
   "outputs": [],
   "source": [
    "presidents_who_were_vp.llm.verify(\"expect no NULL values\")"
   ]
  },
  {
   "cell_type": "markdown",
   "metadata": {
    "jupyter": {
     "outputs_hidden": false
    }
   },
   "source": [
    "# Example 3: Top 10 tech companies"
   ]
  },
  {
   "cell_type": "code",
   "execution_count": null,
   "metadata": {
    "collapsed": false,
    "jupyter": {
     "outputs_hidden": false
    },
    "pycharm": {
     "is_executing": true
    }
   },
   "outputs": [],
   "source": [
    "# Search and ingest web content into a DataFrame\n",
    "company_df=assistant.create_df(\"Top 10 tech companies by market cap\", ['company', 'cap', 'country'])\n",
    "company_df.show()"
   ]
  },
  {
   "cell_type": "code",
   "execution_count": null,
   "metadata": {
    "collapsed": false,
    "jupyter": {
     "outputs_hidden": false
    },
    "pycharm": {
     "is_executing": true
    }
   },
   "outputs": [],
   "source": [
    "us_company_df=company_df.llm.transform(\"companies in United States\")\n",
    "us_company_df.show()"
   ]
  },
  {
   "cell_type": "code",
   "execution_count": null,
   "metadata": {
    "collapsed": false,
    "jupyter": {
     "outputs_hidden": false
    },
    "pycharm": {
     "is_executing": true
    }
   },
   "outputs": [],
   "source": [
    "us_company_df.llm.explain()"
   ]
  },
  {
   "cell_type": "code",
   "execution_count": null,
   "metadata": {
    "pycharm": {
     "is_executing": true
    }
   },
   "outputs": [],
   "source": [
    "us_company_df.llm.verify(\"expect all company names to be unique\")"
   ]
  },
  {
   "cell_type": "markdown",
   "metadata": {
    "jupyter": {
     "outputs_hidden": false
    }
   },
   "source": [
    "## Example 4: Ingestion from a URL\n",
    "Instead of searching for the web page, you can also ask the assistant to ingest from a URL."
   ]
  },
  {
   "cell_type": "code",
   "execution_count": null,
   "metadata": {
    "collapsed": false,
    "jupyter": {
     "outputs_hidden": false
    },
    "pycharm": {
     "is_executing": true
    }
   },
   "outputs": [],
   "source": [
    "best_albums_df = assistant.create_df('https://time.com/6235186/best-albums-2022/', [\"album\", \"artist\", \"year\"])\n",
    "best_albums_df.show()"
   ]
  },
  {
   "cell_type": "code",
   "execution_count": null,
   "metadata": {
    "pycharm": {
     "is_executing": true
    }
   },
   "outputs": [],
   "source": [
    "best_albums_df.llm.verify(\"expect each year to be 2022\")"
   ]
  },
  {
   "cell_type": "markdown",
   "metadata": {},
   "source": [
    "## Example 5: UDF Generation\n",
    "\n",
    "You can also ask the assistant to generate code for a Spark UDF by providing."
   ]
  },
  {
   "cell_type": "code",
   "execution_count": null,
   "metadata": {
    "pycharm": {
     "is_executing": true
    }
   },
   "outputs": [],
   "source": [
    "@assistant.udf\n",
    "def convert_grades(grade_percent: float) -> str:\n",
    "    \"\"\"Convert the grade percent to a letter grade using standard cutoffs\"\"\"\n",
    "    ..."
   ]
  },
  {
   "cell_type": "code",
   "execution_count": null,
   "metadata": {
    "pycharm": {
     "is_executing": true
    }
   },
   "outputs": [],
   "source": [
    "from pyspark.sql import SparkSession\n",
    "\n",
    "spark = SparkSession.builder.getOrCreate()\n",
    "spark.udf.register(\"convert_grades\", convert_grades)\n",
    "percentGrades = [(1, 97.8), (2, 72.3), (3, 81.2)]\n",
    "df = spark.createDataFrame(percentGrades, [\"student_id\", \"grade_percent\"])\n",
    "df.selectExpr(\"student_id\", \"convert_grades(grade_percent)\").show()"
   ]
  },
  {
   "cell_type": "markdown",
   "source": [
    "# Cache\n",
    "The SparkLLMAssistant supports a simple in-memory and persistent cache system. It keeps an in-memory staging cache, which gets updated for LLM and web search results. The staging cache can be persisted through the commit() method. Cache lookup is always performed on the persistent cache only."
   ],
   "metadata": {
    "collapsed": false
   }
  },
  {
   "cell_type": "code",
   "execution_count": null,
   "metadata": {
    "pycharm": {
     "is_executing": true
    }
   },
   "outputs": [],
   "source": [
    "assistant.commit()"
   ]
  },
  {
   "cell_type": "code",
   "execution_count": null,
   "outputs": [],
   "source": [],
   "metadata": {
    "collapsed": false,
    "pycharm": {
     "is_executing": true
    }
   }
  }
 ],
 "metadata": {
  "kernelspec": {
   "display_name": "Python 3 (ipykernel)",
   "language": "python",
   "name": "python3"
  },
  "language_info": {
   "codemirror_mode": {
    "name": "ipython",
    "version": 3
   },
   "file_extension": ".py",
   "mimetype": "text/x-python",
   "name": "python",
   "nbconvert_exporter": "python",
   "pygments_lexer": "ipython3",
   "version": "3.11.4"
  }
 },
 "nbformat": 4,
 "nbformat_minor": 4
}

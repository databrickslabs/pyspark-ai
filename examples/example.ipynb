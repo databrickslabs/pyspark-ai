{
 "cells": [
  {
   "cell_type": "markdown",
   "metadata": {},
   "source": [
    "# Spark LLM Assistant"
   ]
  },
  {
   "cell_type": "markdown",
   "metadata": {},
   "source": [
    "## Initialization"
   ]
  },
  {
   "cell_type": "code",
   "execution_count": 1,
   "metadata": {},
   "outputs": [],
   "source": [
    "import sys\n",
    "import os\n",
    "from pathlib import Path\n",
    "\n",
    "sys.path.append(str(Path.cwd().parent))\n",
    "\n",
    "os.environ['PYSPARK_PYTHON'] = sys.executable\n",
    "os.environ['PYSPARK_DRIVER_PYTHON'] = sys.executable"
   ]
  },
  {
   "cell_type": "code",
   "execution_count": 2,
   "metadata": {
    "collapsed": false,
    "jupyter": {
     "outputs_hidden": false
    }
   },
   "outputs": [
    {
     "name": "stderr",
     "output_type": "stream",
     "text": [
      "Setting default log level to \"WARN\".\n",
      "To adjust logging level use sc.setLogLevel(newLevel). For SparkR, use setLogLevel(newLevel).\n",
      "23/06/16 22:21:11 WARN NativeCodeLoader: Unable to load native-hadoop library for your platform... using builtin-java classes where applicable\n",
      "23/06/16 22:21:11 WARN Utils: Service 'SparkUI' could not bind on port 4040. Attempting port 4041.\n"
     ]
    }
   ],
   "source": [
    "from langchain.chat_models import ChatOpenAI\n",
    "from spark_llm import SparkLLMAssistant\n",
    "\n",
    "llm = ChatOpenAI(model_name='gpt-4') # using gpt-4 can achieve better results\n",
    "assistant=SparkLLMAssistant(llm=llm, verbose=True)\n",
    "assistant.activate() # active partial functions for Spark DataFrame"
   ]
  },
  {
   "cell_type": "markdown",
   "metadata": {},
   "source": [
    "## Example 1: Auto sales by brand in US 2022"
   ]
  },
  {
   "cell_type": "code",
   "execution_count": 3,
   "metadata": {
    "collapsed": false,
    "jupyter": {
     "outputs_hidden": false
    }
   },
   "outputs": [
    {
     "name": "stdout",
     "output_type": "stream",
     "text": [
      "Parsing URL: https://www.carpro.com/blog/full-year-2022-national-auto-sales-by-brand\n",
      "\n",
      "SQL query for the ingestion:\n",
      " CREATE OR REPLACE TEMP VIEW auto_sales_2022 AS SELECT * FROM VALUES\n",
      "('Toyota', 1849751, -9),\n",
      "('Ford', 1767439, -2),\n",
      "('Chevrolet', 1502389, 6),\n",
      "('Honda', 881201, -33),\n",
      "('Hyundai', 724265, -2),\n",
      "('Kia', 693549, -1),\n",
      "('Jeep', 684612, -12),\n",
      "('Nissan', 682731, -25),\n",
      "('Subaru', 556581, -5),\n",
      "('Ram Trucks', 545194, -16),\n",
      "('GMC', 517649, 7),\n",
      "('Mercedes-Benz', 350949, 7),\n",
      "('BMW', 332388, -1),\n",
      "('Volkswagen', 301069, -20),\n",
      "('Mazda', 294908, -11),\n",
      "('Lexus', 258704, -15),\n",
      "('Dodge', 190793, -12),\n",
      "('Audi', 186875, -5),\n",
      "('Cadillac', 134726, 14),\n",
      "('Chrysler', 112713, -2),\n",
      "('Buick', 103519, -42),\n",
      "('Acura', 102306, -35),\n",
      "('Volvo', 102038, -16),\n",
      "('Mitsubishi', 102037, -16),\n",
      "('Lincoln', 83486, -4),\n",
      "('Porsche', 70065, 0),\n",
      "('Genesis', 56410, 14),\n",
      "('INFINITI', 46619, -20),\n",
      "('MINI', 29504, -1),\n",
      "('Alfa Romeo', 12845, -30),\n",
      "('Maserati', 6413, -10),\n",
      "('Bentley', 3975, 0),\n",
      "('Lamborghini', 3134, 3),\n",
      "('Fiat', 915, -61),\n",
      "('McLaren', 840, -35),\n",
      "('Rolls-Royce', 460, 7)\n",
      "AS v1(brand, us_sales, sales_change);\n",
      "\n",
      "Storing data into temp view: auto_sales_2022\n",
      "\n",
      "+-------------+--------+------------+\n",
      "|        brand|us_sales|sales_change|\n",
      "+-------------+--------+------------+\n",
      "|       Toyota| 1849751|          -9|\n",
      "|         Ford| 1767439|          -2|\n",
      "|    Chevrolet| 1502389|           6|\n",
      "|        Honda|  881201|         -33|\n",
      "|      Hyundai|  724265|          -2|\n",
      "|          Kia|  693549|          -1|\n",
      "|         Jeep|  684612|         -12|\n",
      "|       Nissan|  682731|         -25|\n",
      "|       Subaru|  556581|          -5|\n",
      "|   Ram Trucks|  545194|         -16|\n",
      "|          GMC|  517649|           7|\n",
      "|Mercedes-Benz|  350949|           7|\n",
      "|          BMW|  332388|          -1|\n",
      "|   Volkswagen|  301069|         -20|\n",
      "|        Mazda|  294908|         -11|\n",
      "|        Lexus|  258704|         -15|\n",
      "|        Dodge|  190793|         -12|\n",
      "|         Audi|  186875|          -5|\n",
      "|     Cadillac|  134726|          14|\n",
      "|     Chrysler|  112713|          -2|\n",
      "+-------------+--------+------------+\n",
      "only showing top 20 rows\n",
      "\n"
     ]
    }
   ],
   "source": [
    "# Search and ingest web content into a DataFrame\n",
    "auto_df = assistant.create_df(\"2022 USA national auto sales by brand\")\n",
    "auto_df.show()"
   ]
  },
  {
   "cell_type": "code",
   "execution_count": 4,
   "metadata": {
    "collapsed": false,
    "jupyter": {
     "outputs_hidden": false
    }
   },
   "outputs": [
    {
     "name": "stdout",
     "output_type": "stream",
     "text": [
      "To visualize the query result stored in the 'df' dataframe using Plotly, you can follow these steps:\n",
      "\n",
      "1. Import the required libraries\n",
      "```python\n",
      "import pandas as pd\n",
      "import plotly.express as px\n",
      "```\n",
      "\n",
      "2. Convert the Spark DataFrame 'df' to a Pandas DataFrame\n",
      "```python\n",
      "pdf = df.toPandas()\n",
      "```\n",
      "\n",
      "3. Visualize the data. The type of visualization depends on the data and your requirements. Assuming you want to create a bar chart with 'brand' on the x-axis and 'us_sales' on the y-axis, you can use the following code:\n",
      "```python\n",
      "fig = px.bar(pdf, x='brand', y='us_sales', text='sales_change', title='Auto Sales 2022')\n",
      "fig.show()\n",
      "```\n",
      "\n",
      "This code will create a bar chart using the 'brand' column as the x-axis and the 'us_sales' column as the y-axis. The 'sales_change' values will be displayed as text on the bars. The chart will have a title 'Auto Sales 2022'. You can adjust the visualization settings according to your needs.\n",
      "\n",
      "Make sure to install the Plotly library if you haven't already:\n",
      "```bash\n",
      "pip install plotly\n",
      "```\n"
     ]
    }
   ],
   "source": [
    "auto_df.llm_plot()"
   ]
  },
  {
   "cell_type": "code",
   "execution_count": 5,
   "metadata": {
    "collapsed": false,
    "jupyter": {
     "outputs_hidden": false
    }
   },
   "outputs": [
    {
     "name": "stdout",
     "output_type": "stream",
     "text": [
      "SQL query for the transform:\n",
      "SELECT brand, sales_change\n",
      "FROM temp_view_for_transform\n",
      "ORDER BY sales_change DESC\n",
      "LIMIT 1\n",
      "+--------+------------+\n",
      "|   brand|sales_change|\n",
      "+--------+------------+\n",
      "|Cadillac|          14|\n",
      "+--------+------------+\n",
      "\n"
     ]
    }
   ],
   "source": [
    "# Apply transforms to a Dataframe\n",
    "auto_top_growth_df=auto_df.llm_transform(\"top brand with the highest growth\")\n",
    "auto_top_growth_df.show()"
   ]
  },
  {
   "cell_type": "code",
   "execution_count": 6,
   "metadata": {
    "collapsed": false,
    "jupyter": {
     "outputs_hidden": false
    }
   },
   "outputs": [
    {
     "data": {
      "text/plain": [
       "'In summary, this dataframe is retrieving the brand with the highest sales change from the \"auto_sales_2022\" dataset. It presents the results sorted by sales change in descending order and limits the output to just the top brand.'"
      ]
     },
     "execution_count": 6,
     "metadata": {},
     "output_type": "execute_result"
    }
   ],
   "source": [
    "# Explain what a DataFrame is retrieving.\n",
    "auto_top_growth_df.llm_explain()"
   ]
  },
  {
   "cell_type": "markdown",
   "metadata": {},
   "source": [
    "## Example 2: USA Presidents"
   ]
  },
  {
   "cell_type": "code",
   "execution_count": 7,
   "metadata": {
    "collapsed": false,
    "jupyter": {
     "outputs_hidden": false
    }
   },
   "outputs": [
    {
     "name": "stdout",
     "output_type": "stream",
     "text": [
      "Parsing URL: https://www.loc.gov/rr/print/list/057_chron.html\n",
      "\n",
      "SQL query for the ingestion:\n",
      " CREATE OR REPLACE TEMP VIEW usa_presidents AS SELECT * FROM VALUES\n",
      "('George Washington', 'John Adams'),\n",
      "('John Adams', 'Thomas Jefferson'),\n",
      "('Thomas Jefferson', 'Aaron Burr'),\n",
      "('Thomas Jefferson', 'George Clinton'),\n",
      "('James Madison', 'George Clinton'),\n",
      "('James Madison', 'Elbridge Gerry'),\n",
      "('James Monroe', 'Daniel D. Tompkins'),\n",
      "('John Quincy Adams', 'John C. Calhoun'),\n",
      "('Andrew Jackson', 'John C. Calhoun'),\n",
      "('Andrew Jackson', 'Martin Van Buren'),\n",
      "('Martin Van Buren', 'Richard M. Johnson'),\n",
      "('William Henry Harrison', 'John Tyler'),\n",
      "('John Tyler', 'office vacant'),\n",
      "('James K. Polk', 'George M. Dallas'),\n",
      "('Zachary Taylor', 'Millard Fillmore'),\n",
      "('Millard Fillmore', 'office vacant'),\n",
      "('Franklin Pierce', 'William R. King'),\n",
      "('Franklin Pierce', 'office vacant'),\n",
      "('James Buchanan', 'John C. Breckinridge'),\n",
      "('Abraham Lincoln', 'Hannibal Hamlin'),\n",
      "('Abraham Lincoln', 'Andrew Johnson'),\n",
      "('Andrew Johnson', 'office vacant'),\n",
      "('Ulysses S. Grant', 'Schuyler Colfax'),\n",
      "('Ulysses S. Grant', 'Henry Wilson'),\n",
      "('Ulysses S. Grant', 'office vacant'),\n",
      "('Rutherford Birchard Hayes', 'William A. Wheeler'),\n",
      "('James A. Garfield', 'Chester A. Arthur'),\n",
      "('Chester A. Arthur', 'office vacant'),\n",
      "('Grover Cleveland', 'Thomas A. Hendricks'),\n",
      "('Grover Cleveland', 'office vacant'),\n",
      "('Benjamin Harrison', 'Levi P. Morton'),\n",
      "('Grover Cleveland', 'Adlai E. Stevenson'),\n",
      "('William McKinley', 'Garret A. Hobart'),\n",
      "('William McKinley', 'office vacant'),\n",
      "('William McKinley', 'Theodore Roosevelt'),\n",
      "('Theodore Roosevelt', 'office vacant'),\n",
      "('Theodore Roosevelt', 'Charles W. Fairbanks'),\n",
      "('William H. Taft', 'James S. Sherman'),\n",
      "('William H. Taft', 'office vacant'),\n",
      "('Woodrow Wilson', 'Thomas R. Marshall'),\n",
      "('Warren G. Harding', 'Calvin Coolidge'),\n",
      "('Calvin Coolidge', 'office vacant'),\n",
      "('Calvin Coolidge', 'Charles G. Dawes'),\n",
      "('Herbert Hoover', 'Charles Curtis'),\n",
      "('Franklin D. Roosevelt', 'John N. Garner'),\n",
      "('Franklin D. Roosevelt', 'Henry A. Wallace'),\n",
      "('Franklin D. Roosevelt', 'Harry S. Truman'),\n",
      "('Harry S. Truman', 'office vacant'),\n",
      "('Harry S. Truman', 'Alben W. Barkley'),\n",
      "('Dwight D. Eisenhower', 'Richard M. Nixon'),\n",
      "('John F. Kennedy', 'Lyndon B. Johnson'),\n",
      "('Lyndon B. Johnson', 'office vacant'),\n",
      "('Lyndon B. Johnson', 'Hubert H. Humphrey'),\n",
      "('Richard M. Nixon', 'Spiro T. Agnew'),\n",
      "('Richard M. Nixon', 'Gerald R. Ford'),\n",
      "('Gerald R. Ford', 'Nelson Rockefeller'),\n",
      "('Jimmy Carter', 'Walter F. Mondale'),\n",
      "('Ronald Reagan', 'George Bush'),\n",
      "('George Bush', 'Dan Quayle'),\n",
      "('Bill Clinton', 'Albert Gore'),\n",
      "('George W. Bush', 'Richard Cheney'),\n",
      "('Barack Obama', 'Joseph R. Biden'),\n",
      "('Donald J. Trump', 'Mike Pence'),\n",
      "('Joseph R. Biden', 'Kamala Harris')\n",
      "AS v1(president, vice_president);\n",
      "\n",
      "Storing data into temp view: usa_presidents\n",
      "\n",
      "+--------------------+--------------------+\n",
      "|           president|      vice_president|\n",
      "+--------------------+--------------------+\n",
      "|   George Washington|          John Adams|\n",
      "|          John Adams|    Thomas Jefferson|\n",
      "|    Thomas Jefferson|          Aaron Burr|\n",
      "|    Thomas Jefferson|      George Clinton|\n",
      "|       James Madison|      George Clinton|\n",
      "|       James Madison|      Elbridge Gerry|\n",
      "|        James Monroe|  Daniel D. Tompkins|\n",
      "|   John Quincy Adams|     John C. Calhoun|\n",
      "|      Andrew Jackson|     John C. Calhoun|\n",
      "|      Andrew Jackson|    Martin Van Buren|\n",
      "|    Martin Van Buren|  Richard M. Johnson|\n",
      "|William Henry Har...|          John Tyler|\n",
      "|          John Tyler|       office vacant|\n",
      "|       James K. Polk|    George M. Dallas|\n",
      "|      Zachary Taylor|    Millard Fillmore|\n",
      "|    Millard Fillmore|       office vacant|\n",
      "|     Franklin Pierce|     William R. King|\n",
      "|     Franklin Pierce|       office vacant|\n",
      "|      James Buchanan|John C. Breckinridge|\n",
      "|     Abraham Lincoln|     Hannibal Hamlin|\n",
      "+--------------------+--------------------+\n",
      "only showing top 20 rows\n",
      "\n"
     ]
    }
   ],
   "source": [
    "# You can also specify the expected columns for the ingestion.\n",
    "df=assistant.create_df(\"USA presidents\", [\"president\", \"vice_president\"])\n",
    "df.show()"
   ]
  },
  {
   "cell_type": "code",
   "execution_count": 8,
   "metadata": {
    "collapsed": false,
    "jupyter": {
     "outputs_hidden": false
    }
   },
   "outputs": [
    {
     "name": "stdout",
     "output_type": "stream",
     "text": [
      "SQL query for the transform:\n",
      "SELECT DISTINCT president FROM temp_view_for_transform\n",
      "WHERE president IN (SELECT vice_president FROM temp_view_for_transform)\n",
      "+------------------+\n",
      "|         president|\n",
      "+------------------+\n",
      "|        John Adams|\n",
      "|  Thomas Jefferson|\n",
      "|  Martin Van Buren|\n",
      "|  Millard Fillmore|\n",
      "|        John Tyler|\n",
      "|    Andrew Johnson|\n",
      "| Chester A. Arthur|\n",
      "|Theodore Roosevelt|\n",
      "|   Calvin Coolidge|\n",
      "|   Harry S. Truman|\n",
      "|    Gerald R. Ford|\n",
      "| Lyndon B. Johnson|\n",
      "|  Richard M. Nixon|\n",
      "|       George Bush|\n",
      "|   Joseph R. Biden|\n",
      "+------------------+\n",
      "\n"
     ]
    }
   ],
   "source": [
    "presidents_who_were_vp = df.llm_transform(\"presidents who were also vice presidents\")\n",
    "presidents_who_were_vp.show()"
   ]
  },
  {
   "cell_type": "code",
   "execution_count": 9,
   "metadata": {
    "collapsed": false,
    "jupyter": {
     "outputs_hidden": false
    }
   },
   "outputs": [
    {
     "data": {
      "text/plain": [
       "'In summary, this dataframe is retrieving a list of distinct presidents who have also served as vice presidents in the past.'"
      ]
     },
     "execution_count": 9,
     "metadata": {},
     "output_type": "execute_result"
    }
   ],
   "source": [
    "presidents_who_were_vp.llm_explain()"
   ]
  },
  {
   "cell_type": "markdown",
   "metadata": {},
   "source": [
    "# Example 3: Top 10 tech companies"
   ]
  },
  {
   "cell_type": "code",
   "execution_count": null,
   "metadata": {
    "collapsed": false,
    "jupyter": {
     "outputs_hidden": false
    }
   },
   "outputs": [
    {
     "name": "stdout",
     "output_type": "stream",
     "text": [
      "Parsing URL: https://www.statista.com/statistics/1350976/leading-tech-companies-worldwide-by-market-cap/\n",
      "\n"
     ]
    }
   ],
   "source": [
    "# Search and ingest web content into a DataFrame\n",
    "company_df=assistant.create_df(\"Top 10 tech companies by market cap\", ['company', 'cap', 'country'])\n",
    "company_df.show()"
   ]
  },
  {
   "cell_type": "code",
   "execution_count": null,
   "metadata": {
    "collapsed": false,
    "jupyter": {
     "outputs_hidden": false
    }
   },
   "outputs": [],
   "source": [
    "us_company_df=company_df.llm_transform(\"companies in USA\")\n",
    "us_company_df.show()"
   ]
  },
  {
   "cell_type": "code",
   "execution_count": null,
   "metadata": {
    "collapsed": false,
    "jupyter": {
     "outputs_hidden": false
    }
   },
   "outputs": [],
   "source": [
    "us_company_df.llm_explain()"
   ]
  },
  {
   "cell_type": "code",
   "execution_count": null,
   "metadata": {
    "collapsed": false,
    "jupyter": {
     "outputs_hidden": false
    }
   },
   "outputs": [],
   "source": [
    "us_company_df.llm_plot()"
   ]
  },
  {
   "cell_type": "markdown",
   "metadata": {},
   "source": [
    "## Example 4: Ingestion from a URL\n",
    "Instead of searching for the web page, you can also ask the assistant to ingest from a URL."
   ]
  },
  {
   "cell_type": "code",
   "execution_count": null,
   "metadata": {
    "collapsed": false,
    "jupyter": {
     "outputs_hidden": false
    }
   },
   "outputs": [],
   "source": [
    "assistant.create_df('https://time.com/6235186/best-albums-2022/').show()"
   ]
  },
  {
   "cell_type": "markdown",
   "metadata": {},
   "source": [
    "## Example 5: UDF Generation\n",
    "\n",
    "You can also ask the assistant to generate code for a Spark UDF, given a description."
   ]
  },
  {
   "cell_type": "code",
   "execution_count": null,
   "metadata": {},
   "outputs": [],
   "source": [
    "from pyspark.sql import SparkSession\n",
    "from pyspark.sql.types import StructType, StructField, StringType\n",
    "from pyspark.sql.functions import col\n",
    "\n",
    "spark = SparkSession.builder \\\n",
    "            .master(\"local[1]\") \\\n",
    "            .appName(\"TestUDF\") \\\n",
    "            .getOrCreate()\n"
   ]
  },
  {
   "cell_type": "code",
   "execution_count": null,
   "metadata": {},
   "outputs": [],
   "source": [
    "# first, a simple example\n",
    "\n",
    "# assistant generates a udf that carries out the docstring description\n",
    "@assistant.udf\n",
    "def my_awesome_udf(x: int) -> int:\n",
    "    \"\"\"Output 42\"\"\"\n",
    "    ...\n",
    "    \n",
    "# now we can register my_awesome_udf in PySpark\n",
    "spark.udf.register(\"udf\", my_awesome_udf)\n",
    "\n",
    "# let's test it\n",
    "spark.sql(\"select udf(0)\").show()"
   ]
  },
  {
   "cell_type": "code",
   "execution_count": null,
   "metadata": {},
   "outputs": [],
   "source": [
    "@assistant.udf\n",
    "def capitalize_full_names(first_name: str, last_name: str) -> str:\n",
    "    \"\"\"Convert first and last name to uppercase and append with space between\"\"\"\n",
    "    ...\n",
    "    \n",
    "spark.udf.register(\"capitalize_full_names\", capitalize_full_names)\n",
    "\n",
    "\n",
    "schema = StructType([\n",
    "    StructField(\"first_name\", StringType(), nullable=False),\n",
    "    StructField(\"last_name\", StringType(), nullable=False)\n",
    "])\n",
    "names = [(\"amanda\", \"liu\"), (\"allison\", \"wang\"), (\"gengliang\", \"wang\")]\n",
    "df = spark.createDataFrame(names, schema)\n",
    "\n",
    "df.show()\n",
    "df.createOrReplaceTempView(\"namesDF\")\n",
    "spark.sql(\"select capitalize_full_names(first_name, last_name) as uppercase_full_names from namesDF\").show()"
   ]
  },
  {
   "cell_type": "code",
   "execution_count": null,
   "metadata": {},
   "outputs": [],
   "source": []
  }
 ],
 "metadata": {
  "kernelspec": {
   "display_name": "Python 3 (ipykernel)",
   "language": "python",
   "name": "python3"
  },
  "language_info": {
   "codemirror_mode": {
    "name": "ipython",
    "version": 3
   },
   "file_extension": ".py",
   "mimetype": "text/x-python",
   "name": "python",
   "nbconvert_exporter": "python",
   "pygments_lexer": "ipython3",
   "version": "3.11.4"
  }
 },
 "nbformat": 4,
 "nbformat_minor": 4
}
